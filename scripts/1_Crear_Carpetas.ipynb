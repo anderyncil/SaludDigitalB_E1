{
 "cells": [
  {
   "cell_type": "code",
   "execution_count": 1,
   "id": "ed304f0a",
   "metadata": {},
   "outputs": [
    {
     "name": "stdout",
     "output_type": "stream",
     "text": [
      "Carpeta 'data' creada.\n",
      "Carpeta 'database' creada.\n",
      "Carpeta 'reports' creada.\n",
      "Carpeta 'ci' creada.\n",
      "Carpeta 'git' creada.\n",
      "Carpeta 'scripts' creada.\n"
     ]
    }
   ],
   "source": [
    "import os\n",
    "\n",
    "# Lista de carpetas a crear\n",
    "folders = ['data', 'database', 'reports', 'ci', 'git', 'scripts']\n",
    "\n",
    "# Crear cada carpeta si no existe\n",
    "for folder in folders:\n",
    "    if not os.path.exists(folder):\n",
    "        os.makedirs(folder)\n",
    "        print(f\"Carpeta '{folder}' creada.\")\n",
    "    else:\n",
    "        print(f\"Carpeta '{folder}' ya existe.\")"
   ]
  },
  {
   "cell_type": "code",
   "execution_count": null,
   "id": "4c52b4f9",
   "metadata": {},
   "outputs": [],
   "source": []
  }
 ],
 "metadata": {
  "kernelspec": {
   "display_name": "myenv",
   "language": "python",
   "name": "python3"
  },
  "language_info": {
   "codemirror_mode": {
    "name": "ipython",
    "version": 3
   },
   "file_extension": ".py",
   "mimetype": "text/x-python",
   "name": "python",
   "nbconvert_exporter": "python",
   "pygments_lexer": "ipython3",
   "version": "3.13.7"
  }
 },
 "nbformat": 4,
 "nbformat_minor": 5
}
