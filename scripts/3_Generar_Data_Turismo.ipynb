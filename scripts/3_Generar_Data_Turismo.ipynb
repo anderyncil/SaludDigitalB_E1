{
 "cells": [
  {
   "cell_type": "code",
   "execution_count": 1,
   "id": "b4cb2871",
   "metadata": {},
   "outputs": [
    {
     "name": "stdout",
     "output_type": "stream",
     "text": [
      "Generados 3000 registros en 'data/pacientes.csv'.\n"
     ]
    }
   ],
   "source": [
    "import pandas as pd\n",
    "import numpy as np\n",
    "import random\n",
    "from datetime import datetime, timedelta\n",
    "import os\n",
    "\n",
    "num_records = 3000\n",
    "columns = ['id_paciente', 'nombre', 'edad', 'sexo', 'distrito', 'servicio', 'fecha_atencion', 'monto']\n",
    "\n",
    "nombres = ['Ana', 'Luis', 'Maria', 'Juan', 'Pedro', 'Sofia', 'Carlos', 'Laura']\n",
    "apellidos = ['Torres', 'Perez', 'Gomez', 'Lopez', 'Martinez', 'Rodriguez']\n",
    "distritos = ['Miraflores', 'Surco', 'San Isidro', 'Lima', 'Callao', None]\n",
    "servicios = ['Odontologia', 'Pediatria', 'Cardiologia', 'Dermatologia', 'General']\n",
    "sexos = ['F', 'M']\n",
    "\n",
    "data = []\n",
    "for i in range(num_records):\n",
    "    id_p = f'P{random.randint(1, 1000):03d}'\n",
    "    nombre = random.choice(nombres) + ' ' + random.choice(apellidos)\n",
    "    edad = random.randint(1, 100) if random.random() > 0.05 else np.nan\n",
    "    sexo = random.choice(sexos)\n",
    "    distrito = random.choice(distritos)\n",
    "    servicio = random.choice(servicios)\n",
    "    fecha = datetime(2024, 1, 1) + timedelta(days=random.randint(0, 365))\n",
    "    fecha_str = fecha.strftime('%Y-%m-%d') if random.random() > 0.1 else 'invalid'\n",
    "    monto = round(random.uniform(50, 500), 2) if random.random() > 0.05 else np.nan\n",
    "\n",
    "    data.append([id_p, nombre, edad, sexo, distrito, servicio, fecha_str, monto])\n",
    "\n",
    "df = pd.DataFrame(data, columns=columns)\n",
    "csv_path = 'data/pacientes.csv'\n",
    "df.to_csv(csv_path, index=False)\n",
    "print(f\"Generados {num_records} registros en '{csv_path}'.\")"
   ]
  },
  {
   "cell_type": "code",
   "execution_count": null,
   "id": "4905a264",
   "metadata": {},
   "outputs": [],
   "source": []
  }
 ],
 "metadata": {
  "kernelspec": {
   "display_name": "myenv",
   "language": "python",
   "name": "python3"
  },
  "language_info": {
   "codemirror_mode": {
    "name": "ipython",
    "version": 3
   },
   "file_extension": ".py",
   "mimetype": "text/x-python",
   "name": "python",
   "nbconvert_exporter": "python",
   "pygments_lexer": "ipython3",
   "version": "3.13.7"
  }
 },
 "nbformat": 4,
 "nbformat_minor": 5
}
