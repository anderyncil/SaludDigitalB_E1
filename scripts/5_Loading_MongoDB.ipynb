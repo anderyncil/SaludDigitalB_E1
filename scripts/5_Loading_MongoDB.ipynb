{
 "cells": [
  {
   "cell_type": "code",
   "execution_count": 1,
   "id": "da2fdb71",
   "metadata": {},
   "outputs": [
    {
     "name": "stdout",
     "output_type": "stream",
     "text": [
      "Insertados 955 registros.\n"
     ]
    }
   ],
   "source": [
    "import pandas as pd\n",
    "from pymongo import MongoClient\n",
    "\n",
    "client = MongoClient('mongodb://localhost:27017/')\n",
    "db = client['SaludDigital_2025']\n",
    "collection = db['pacientes']\n",
    "\n",
    "df = pd.read_csv('database/pacientes_clean.csv')\n",
    "data = df.to_dict('records')\n",
    "collection.insert_many(data)\n",
    "print(f\"Insertados {len(data)} registros.\")"
   ]
  },
  {
   "cell_type": "code",
   "execution_count": null,
   "id": "f6a2ed39",
   "metadata": {},
   "outputs": [],
   "source": []
  }
 ],
 "metadata": {
  "kernelspec": {
   "display_name": "myenv",
   "language": "python",
   "name": "python3"
  },
  "language_info": {
   "codemirror_mode": {
    "name": "ipython",
    "version": 3
   },
   "file_extension": ".py",
   "mimetype": "text/x-python",
   "name": "python",
   "nbconvert_exporter": "python",
   "pygments_lexer": "ipython3",
   "version": "3.13.7"
  }
 },
 "nbformat": 4,
 "nbformat_minor": 5
}
